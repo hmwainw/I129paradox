{
 "cells": [
  {
   "cell_type": "code",
   "execution_count": 1,
   "id": "530e4039",
   "metadata": {},
   "outputs": [],
   "source": [
    "# K. Whiteaker, May 2024"
   ]
  },
  {
   "cell_type": "code",
   "execution_count": 9,
   "id": "e2ba51c2",
   "metadata": {},
   "outputs": [
    {
     "name": "stdout",
     "output_type": "stream",
     "text": [
      "I-131 effluents [GBq/yr]: 0.74\n",
      "I-131 generated [GBq/yr]: 28.05490150170683\n",
      "Ratio of atoms of I-131 generated to atoms of I-129 generated: 4.076487252124646\n",
      "I-129 generated [GBq/yr]: 9.6545294033478e-09\n",
      "I-129 effluents [GBq/yr]: 9.65452935411256e-09\n",
      "Note: these results are per year, not per GWe-yr energy generation! This result would be divided by 1 to 1.5 GWe, depending on the reactor.\n"
     ]
    }
   ],
   "source": [
    "import numpy as np\n",
    "\n",
    "bq_per_ci = 37e9\n",
    "sec_per_day = 86400  # sec/day\n",
    "sec_per_mo = 2.628e6  # sec/mo\n",
    "sec_per_yr = 3.154e7  # sec/yr\n",
    "halfLife_i131 = 8.04*sec_per_day  # seconds\n",
    "halfLife_i129 = 15.7e6*sec_per_yr  # seconds\n",
    "lambda_i131 = np.log(2)/halfLife_i131  # 1/seconds\n",
    "lambda_i129 = np.log(2)/halfLife_i129  # 1/seconds\n",
    "yield_i131 = 2.878  # %/fission, U-235 thermal fission yield of I-131\n",
    "yield_i129 = 0.706  # %/fission, U-235 thermal fission yield of I-129\n",
    "\n",
    "# from https://ncrponline.org/shop/reports/report-no-075-iodine-129-evaluation-of-releases-from-nuclear-power-generation-1983/\n",
    "holdingTime = 2*sec_per_mo\n",
    "\n",
    "# from 2019 effluent report https://www.nrc.gov/docs/ML2126/ML21266A422.pdf\n",
    "# this is the highest value in the effluent report, and therefore serves as an upper limit on discharge\n",
    "i131_effluent_ci = 2e-2  # Ci\n",
    "\n",
    "i131_effluent_bq = i131_effluent_ci*bq_per_ci  # bq\n",
    "# Account for the decay of I-131 between generation and discharge:\n",
    "i131_generated_bq = i131_effluent_bq/(2**(-lambda_i131*holdingTime))  # bq\n",
    "i131_generated_atoms = i131_generated_bq/lambda_i131\n",
    "\n",
    "i129_generated_atoms = i131_generated_atoms*(yield_i129/yield_i131)\n",
    "i129_generated_bq = i129_generated_atoms*lambda_i129\n",
    "i129_generated_Gbq = i129_generated_bq/1e9\n",
    "\n",
    "# given the half-life of I-129, there would have been negligible decay, but this is calculated for completeness\n",
    "i129_effluent_Gbq = i129_generated_Gbq*(2**(-lambda_i129*holdingTime))\n",
    "\n",
    "# print(i131_generated_atoms)\n",
    "# print(i129_generated_atoms)\n",
    "print(\"I-131 effluents [GBq/yr]:\", i131_effluent_bq/1e9)\n",
    "print(\"I-131 generated [GBq/yr]:\", i131_generated_bq/1e9)\n",
    "print(\"Ratio of atoms of I-131 generated to atoms of I-129 generated:\", i131_generated_atoms/i129_generated_atoms)\n",
    "print(\"I-129 generated [GBq/yr]:\", i129_generated_Gbq)\n",
    "print(\"I-129 effluents [GBq/yr]:\", i129_effluent_Gbq)\n",
    "\n",
    "print(\"Note: these results are per year, not per GWe-yr energy generation! This result would be divided by 1 to 1.5 GWe, depending on the reactor.\")"
   ]
  }
 ],
 "metadata": {
  "kernelspec": {
   "display_name": "Python 3 (ipykernel)",
   "language": "python",
   "name": "python3"
  },
  "language_info": {
   "codemirror_mode": {
    "name": "ipython",
    "version": 3
   },
   "file_extension": ".py",
   "mimetype": "text/x-python",
   "name": "python",
   "nbconvert_exporter": "python",
   "pygments_lexer": "ipython3",
   "version": "3.11.9"
  }
 },
 "nbformat": 4,
 "nbformat_minor": 5
}
