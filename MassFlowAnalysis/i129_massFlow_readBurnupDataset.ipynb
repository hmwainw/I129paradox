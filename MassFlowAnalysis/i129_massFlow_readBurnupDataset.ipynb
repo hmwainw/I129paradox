{
 "cells": [
  {
   "cell_type": "code",
   "execution_count": 1,
   "id": "989c89b9",
   "metadata": {},
   "outputs": [],
   "source": [
    "# K. Whiteaker 2024-05\n",
    "# kwhit@mit.edu\n",
    "# k8whiteaker@gmail.com"
   ]
  },
  {
   "cell_type": "markdown",
   "id": "a075d855",
   "metadata": {},
   "source": [
    "The cell below creates a subset of the Uppsala PWR spent fuel data library (UU_PWR_UOX-MOX.csv) [1], containing only the entries with the specified burnup and enrichment and only the columns defined in 'usecols'. For our purposes, the most important column is 'I129', the I-129 contained in spent fuel in units of $10^{24}$ atoms/m$^3$ of fuel. The desired entries are saved to a .csv file.\n",
    "\n",
    "[1] https://data.mendeley.com/datasets/8z3smmw63p/1\n",
    "\n",
    "This is done in a separate Jupyter notebook from the mass flow calculations due to the long computation time required to read UU_PWR_UOX-MOX.csv"
   ]
  },
  {
   "cell_type": "code",
   "execution_count": 3,
   "id": "a657cb22",
   "metadata": {},
   "outputs": [
    {
     "name": "stdout",
     "output_type": "stream",
     "text": [
      "done\n"
     ]
    }
   ],
   "source": [
    "import pandas as pd\n",
    "\n",
    "burnup = 50  # GWd/MTIHM\n",
    "enrichment = 4.5  # %\n",
    "\n",
    "# import desired rows and columns from data library\n",
    "fueldata = pd.read_csv('UU_PWR_UOX-MOX.csv', header=0,\n",
    "                      usecols=['BU', 'CT', 'IE', 'fuelType', 'TOT_SF', 'TOT_A', 'I127', 'I129', 'I131'])\n",
    "fueldata_subset = fueldata[(fueldata['BU']==float(burnup)) & (fueldata['IE']==enrichment) & (fueldata['fuelType']=='UOX')]\n",
    "\n",
    "# save imported rows and columns in .csv file\n",
    "filename = 'burnup' + str(burnup) + '-enrich' + str(enrichment) + '-iodines' + '.csv'\n",
    "fueldata_subset.to_csv(filename, index=False)\n",
    "\n",
    "print('done')"
   ]
  },
  {
   "cell_type": "code",
   "execution_count": null,
   "id": "b238b0bd",
   "metadata": {},
   "outputs": [],
   "source": []
  }
 ],
 "metadata": {
  "kernelspec": {
   "display_name": "Python 3 (ipykernel)",
   "language": "python",
   "name": "python3"
  },
  "language_info": {
   "codemirror_mode": {
    "name": "ipython",
    "version": 3
   },
   "file_extension": ".py",
   "mimetype": "text/x-python",
   "name": "python",
   "nbconvert_exporter": "python",
   "pygments_lexer": "ipython3",
   "version": "3.11.9"
  }
 },
 "nbformat": 4,
 "nbformat_minor": 5
}
