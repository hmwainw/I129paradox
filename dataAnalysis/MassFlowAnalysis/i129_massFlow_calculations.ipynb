{
 "cells": [
  {
   "cell_type": "code",
   "execution_count": 1,
   "id": "6aeda7d7",
   "metadata": {},
   "outputs": [],
   "source": [
    "# K. Whiteaker 2024-05\n",
    "# kwhit@mit.edu\n",
    "# k8whiteaker@gmail.com"
   ]
  },
  {
   "cell_type": "markdown",
   "id": "f4201d96",
   "metadata": {},
   "source": [
    "This code describes the flow of I-129 from production in spent fuel (\"Source Term\") to three possible back-end scenarios:\n",
    "\n",
    "(1) Spent fuel is sent directly to HLW\n",
    "\n",
    "(2) Spent fuel is reprocessed in a model based on La Hague where 96% of the I-129 is captured in liquid effluent and 4% is filtered\n",
    "\n",
    "(3) Spent fuel is reprocessed in an idealized model where 100% of the I-129 is filtered"
   ]
  },
  {
   "cell_type": "markdown",
   "id": "d6b2945d",
   "metadata": {},
   "source": [
    "# I-129 Source Term"
   ]
  },
  {
   "cell_type": "markdown",
   "id": "f6666ed0",
   "metadata": {},
   "source": [
    "## Step 1: Calculate NPP fuel requirement\n",
    "\n",
    "### VERSION A: Rough estimate (depreciated)\n",
    "\n",
    "The cell below estimates the fuel requirement per GWe-yr for an example nuclear power plant (NPP) via a back-of-the-envelope calculation."
   ]
  },
  {
   "cell_type": "code",
   "execution_count": 2,
   "id": "de7e691e",
   "metadata": {},
   "outputs": [],
   "source": [
    "# import numpy as np\n",
    "\n",
    "# # constants\n",
    "# J_per_MeV = 1.60218e-13  # J/MeV\n",
    "# J_per_GWd = 8.64e13  # J/GWd\n",
    "# sec_per_year = 3.1536e7  # sec\n",
    "# sec_per_day = 86400  # sec\n",
    "# day_per_year = 365.25  # days\n",
    "# L_per_m3 = 1e3  # L/m3\n",
    "# i129_per_mol = 6.02e23  # avocado\n",
    "# i129_yield = 0.706/100  # from https://www-nds.iaea.org/sgnucdat/c3.htm\n",
    "# i129_halflife = 15.7e6*sec_per_year  # sec\n",
    "# GBq_per_i129 = 1e-9*np.log(2)/i129_halflife  # GBq/atom I-129\n",
    "\n",
    "# # assumptions\n",
    "# burnup = 40  # GWd/MTIHM, chosen because seems average\n",
    "# enrichment = 4  # %, chosen because seems average\n",
    "# capacity_factor = 0.95\n",
    "# thermal_eff = 0.35\n",
    "# npp_power = 1e9  # W\n",
    "# print(f\"NPP parameters: burnup {burnup} GWd/MTIHM, enrichment {enrichment}%, capacity {capacity_factor}, efficiency {thermal_eff}, power production {npp_power/1e9} GWe-yr\")\n",
    "\n",
    "# # calculations\n",
    "# npp_energy_perGWeyr = npp_power*sec_per_year*capacity_factor/thermal_eff  # J\n",
    "# print(f\"NPP thermal energy production per GWe-yr:\", npp_energy_perGWeyr, \"J\")\n",
    "# npp_fuel_perGWeyr = npp_energy_perGWeyr/(burnup*J_per_GWd)  # MTU\n",
    "# print(\"NPP fuel required per GWe-yr:\", npp_fuel_perGWeyr, \"MTU\")"
   ]
  },
  {
   "cell_type": "markdown",
   "id": "17519880",
   "metadata": {},
   "source": [
    "### VERSION B: Copy reference PWR from ANL study\n",
    "\n",
    "The cell below saves the reactor parameters from the PWR benchmark (\"Ref. PWR\") in the following study:\n",
    "https://fuelcycleoptions.inl.gov/SiteAssets/SitePages/Home/SMR_Waste_Attributes_Report_Final.pdf"
   ]
  },
  {
   "cell_type": "code",
   "execution_count": 3,
   "id": "de742b02",
   "metadata": {},
   "outputs": [],
   "source": [
    "import numpy as np\n",
    "\n",
    "# constants\n",
    "J_per_MeV = 1.60218e-13  # J/MeV\n",
    "J_per_GWd = 8.64e13  # J/GWd\n",
    "sec_per_year = 3.1536e7  # sec\n",
    "sec_per_day = 86400  # sec\n",
    "day_per_year = 365.25  # days\n",
    "L_per_m3 = 1e3  # L/m3\n",
    "i129_per_mol = 6.02e23  # avocado\n",
    "i129_yield = 0.706/100  # from https://www-nds.iaea.org/sgnucdat/c3.htm\n",
    "i129_halflife = 15.7e6*sec_per_year  # sec\n",
    "GBq_per_i129 = 1e-9*np.log(2)/i129_halflife  # GBq/atom I-129\n",
    "GBq_per_pCi = 3.7e-11\n",
    "\n",
    "# reactor parameters\n",
    "burnup = 50  # GWd/MTIHM\n",
    "enrichment = 4.5  # %\n",
    "capacity_factor = 0.90\n",
    "thermal_eff = 0.34\n",
    "npp_power = 1.175e9  # W\n",
    "npp_fuel_perGWeyr = 21.7  # MTU/GWe-yr"
   ]
  },
  {
   "cell_type": "markdown",
   "id": "0b7236d4",
   "metadata": {},
   "source": [
    "# Step 2: Calculate GBq I-129 in spent fuel after LLW and effluents\n",
    "\n",
    "The cell below pulls the I-129 density in spent fuel from a subset of the Uppsala PWR spent fuel data library [1], then multiplies this by NPP fuel requirement to get I-129 generated per GWe-yr. This subset of the spent fuel data library (\"filename\" in the code below) was generated using i129_massFlow_readBurnupDataset.ipynb\n",
    "\n",
    "Further information on the data in this PWR spent fuel data library, for example the fuel density, can be found in [2].\n",
    "\n",
    "[1] https://data.mendeley.com/datasets/8z3smmw63p/1\n",
    "\n",
    "[2] https://www.sciencedirect.com/science/article/pii/S2352340920313111"
   ]
  },
  {
   "cell_type": "code",
   "execution_count": 4,
   "id": "fefa10f0",
   "metadata": {},
   "outputs": [
    {
     "name": "stdout",
     "output_type": "stream",
     "text": [
      "I-129 produced at NPP per GWe-yr: 29.73631979326882 GBq\n",
      "I-129 remaining in spent fuel per GWe-yr: 29.636319793268818 GBq\n"
     ]
    },
    {
     "name": "stderr",
     "output_type": "stream",
     "text": [
      "/Users/harukowainwright/anaconda3/lib/python3.11/site-packages/pandas/core/arrays/masked.py:60: UserWarning: Pandas requires version '1.3.6' or newer of 'bottleneck' (version '1.3.5' currently installed).\n",
      "  from pandas.core import (\n"
     ]
    }
   ],
   "source": [
    "import pandas as pd\n",
    "\n",
    "filename = 'burnup' + str(burnup) + '-enrich' + str(enrichment) + '-iodines' + '.csv'\n",
    "# columns in .csv include:\n",
    "# burnup BU in GWd/MTU, cooling time CT in days, enrichment IE in %\n",
    "# TOT_SF Spontaneous fission rate in fissions per second on a per axial length (cm) basis\n",
    "# TOT_A Activity in Becquerels on a per axial length basis\n",
    "# the isotope atomic densities I127, I129, I131 given in units of 1e24/cm3\n",
    "data = pd.read_csv(filename)\n",
    "\n",
    "fuel_density = 10.5e-6  # MT/cm3, from PWR spent fuel data library paper https://www.sciencedirect.com/science/article/pii/S2352340920313111\n",
    "i129_atomic_density = 1e24*data['I129']/fuel_density  # atom/MTU\n",
    "i129_molar_density = i129_atomic_density/6.02e23  # mol/MTU\n",
    "pwr_i129_atomic_density = np.average(i129_atomic_density)\n",
    "pwr_i129_molar_density = np.average(i129_molar_density)\n",
    "\n",
    "npp_i129_perGWeyr = pwr_i129_atomic_density*npp_fuel_perGWeyr  # atoms I-129\n",
    "npp_i129_activity_perGWeyr = npp_i129_perGWeyr*GBq_per_i129  # GBq I-129\n",
    "print(\"I-129 produced at NPP per GWe-yr:\", npp_i129_activity_perGWeyr, \"GBq\")\n",
    "\n",
    "loss_effluent_LLW = 0.1  # GBq/GWe-yr, loss to effluents + LLW shipments calculated separately as described in i129 paper\n",
    "spentFuel_i129_activity_perGWeyr = npp_i129_activity_perGWeyr - loss_effluent_LLW  # GBq I-129\n",
    "print(\"I-129 remaining in spent fuel per GWe-yr:\", spentFuel_i129_activity_perGWeyr, \"GBq\")"
   ]
  },
  {
   "attachments": {},
   "cell_type": "markdown",
   "id": "6ad8c555",
   "metadata": {},
   "source": [
    "# Reprocessing mass flow"
   ]
  },
  {
   "cell_type": "code",
   "execution_count": 23,
   "id": "d025fce3",
   "metadata": {},
   "outputs": [
    {
     "data": {
      "text/plain": [
       "0.9100112485939258"
      ]
     },
     "execution_count": 23,
     "metadata": {},
     "output_type": "execute_result"
    }
   ],
   "source": [
    "# Estimate the La Hague filter efficiency\n",
    "SNF2gas = 0.95 # % released as gas from SNF, Asmussen et al. (2022)\n",
    "liquid_scrubbing = 0.96 # liquid scrubbing efficiency, Orano, 2021a, 2021b, 2022\n",
    "liq2gas = 266.7 # liquid-to-gas release ratio\n",
    "\n",
    "mass_gas = spentFuel_i129_activity_perGWeyr*SNF2gas*(1-liquid_scrubbing) \n",
    "mass_liq = spentFuel_i129_activity_perGWeyr*SNF2gas*liquid_scrubbing \n",
    "\n",
    "# filter efficiency\n",
    "filter_efficiency = (mass_gas-(mass_liq/liq2gas))/mass_gas\n",
    "filter_efficiency"
   ]
  },
  {
   "cell_type": "code",
   "execution_count": 24,
   "id": "2dae05f7",
   "metadata": {},
   "outputs": [
    {
     "data": {
      "text/plain": [
       "1.0248366063944554"
      ]
     },
     "execution_count": 24,
     "metadata": {},
     "output_type": "execute_result"
    }
   ],
   "source": [
    "# Mass to LLW\n",
    "mass_gas-(mass_liq/liq2gas)"
   ]
  },
  {
   "cell_type": "code",
   "execution_count": 25,
   "id": "9e1b3160",
   "metadata": {},
   "outputs": [
    {
     "data": {
      "text/plain": [
       "27.02832365146116"
      ]
     },
     "execution_count": 25,
     "metadata": {},
     "output_type": "execute_result"
    }
   ],
   "source": [
    "# Mass to the biosphere\n",
    "mass_liq"
   ]
  },
  {
   "cell_type": "code",
   "execution_count": 26,
   "id": "c1167ce9",
   "metadata": {},
   "outputs": [
    {
     "data": {
      "text/plain": [
       "27.872958765569322"
      ]
     },
     "execution_count": 26,
     "metadata": {},
     "output_type": "execute_result"
    }
   ],
   "source": [
    "# Purely based on gas filters\n",
    "spentFuel_i129_activity_perGWeyr*SNF2gas*0.99"
   ]
  }
 ],
 "metadata": {
  "kernelspec": {
   "display_name": "Python 3 (ipykernel)",
   "language": "python",
   "name": "python3"
  },
  "language_info": {
   "codemirror_mode": {
    "name": "ipython",
    "version": 3
   },
   "file_extension": ".py",
   "mimetype": "text/x-python",
   "name": "python",
   "nbconvert_exporter": "python",
   "pygments_lexer": "ipython3",
   "version": "3.11.9"
  }
 },
 "nbformat": 4,
 "nbformat_minor": 5
}
